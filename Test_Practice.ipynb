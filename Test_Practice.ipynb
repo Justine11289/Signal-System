{
 "cells": [
  {
   "cell_type": "code",
   "execution_count": 1,
   "id": "d74d38dd-96cc-478d-a2ff-6287302e1f76",
   "metadata": {},
   "outputs": [],
   "source": [
    "import os\n",
    "\n",
    "if not os.path.exists('thinkdsp.py'):\n",
    "    !wget https://github.com/AllenDowney/ThinkDSP/raw/master/code/thinkdsp.py"
   ]
  },
  {
   "cell_type": "code",
   "execution_count": 2,
   "id": "e1c3743a-cbae-4a01-87a0-3980b57ba512",
   "metadata": {},
   "outputs": [],
   "source": [
    "import numpy as np\n",
    "import matplotlib.pyplot as plt\n",
    "\n",
    "from thinkdsp import CosSignal\n",
    "from thinkdsp import decorate\n",
    "from thinkdsp import Chirp"
   ]
  },
  {
   "cell_type": "code",
   "execution_count": 3,
   "id": "26ef9f5b-b504-4756-a7d1-133543a02d6d",
   "metadata": {},
   "outputs": [],
   "source": [
    "#1 What is a linear chirp signal? Write down its mathematical function"
   ]
  },
  {
   "cell_type": "code",
   "execution_count": 13,
   "id": "1114765b-a90c-4c93-a2b6-3b0bba1cdc92",
   "metadata": {},
   "outputs": [],
   "source": [
    "import numpy as np\n",
    "PI2 = 2 * np.pi\n",
    "ts = np.linspace(0,10,1000)\n",
    "def myCHIRP(ts, f0=100, f1=400):\n",
    "    freqs = np.linspace(f0, f1, len(ts))\n",
    "    dts = np.diff(ts, prepend=0)\n",
    "    dphis = PI2 * freqs * dts\n",
    "    phases = np.cumsum(dphis)\n",
    "    ys = np.cos(phases)\n",
    "    return ys"
   ]
  },
  {
   "cell_type": "code",
   "execution_count": 5,
   "id": "95dde951-8b49-4ec4-8352-6c486e35f0d3",
   "metadata": {},
   "outputs": [],
   "source": [
    "#3 what is DFT (Discrete Fourier Transform), and IDFT (Inverse Discrete Fourier Transform), write down their mathematical definition."
   ]
  },
  {
   "cell_type": "code",
   "execution_count": 6,
   "id": "b2fcc96a-1917-44ec-8311-1864ddd8b553",
   "metadata": {},
   "outputs": [
    {
     "name": "stdout",
     "output_type": "stream",
     "text": [
      "[4.+0.j 0.+0.j 0.+0.j 0.+0.j]\n",
      "[1.+0.j 1.+0.j 1.+0.j 1.+0.j]\n"
     ]
    }
   ],
   "source": [
    "#4 Given a time-domian sequence x[n]= [1,1,1,1], please calculate the DFT X[k]. and also compute y[n], which is the IDFT of X[k]\n",
    "x = np.array([1,1,1,1])\n",
    "import numpy.fft as fft\n",
    "X = fft.fft(x)\n",
    "print(X)\n",
    "y = fft.ifft(X)\n",
    "print(y)"
   ]
  },
  {
   "cell_type": "code",
   "execution_count": 7,
   "id": "84544531-848a-47cb-9929-e73967d467c2",
   "metadata": {},
   "outputs": [
    {
     "data": {
      "text/plain": [
       "array([ 4.000e+00+0.000e+00j, -1.225e-16-1.225e-16j,\n",
       "        0.000e+00-2.449e-16j,  3.674e-16-3.674e-16j])"
      ]
     },
     "execution_count": 7,
     "metadata": {},
     "output_type": "execute_result"
    }
   ],
   "source": [
    "#4 DFT\n",
    "np.set_printoptions(3)\n",
    "N = 4\n",
    "x = np.array([1]*N) \n",
    "n = np.arange(N).reshape(-1,1)\n",
    "nk = n@n.T\n",
    "X = np.exp(-1j*2*np.pi/N*nk)@x\n",
    "X"
   ]
  },
  {
   "cell_type": "code",
   "execution_count": 8,
   "id": "8ab5e4c3-979d-419f-9d56-eaff2176d0e9",
   "metadata": {},
   "outputs": [
    {
     "data": {
      "text/plain": [
       "array([1.-1.837e-16j, 1.-6.123e-17j, 1.+6.123e-17j, 1.+1.837e-16j])"
      ]
     },
     "execution_count": 8,
     "metadata": {},
     "output_type": "execute_result"
    }
   ],
   "source": [
    "#4 IDFT\n",
    "np.set_printoptions(3)\n",
    "N = 4\n",
    "x = np.array([1]*N) \n",
    "n = np.arange(N).reshape(-1,1)\n",
    "nk = n@n.T\n",
    "y = np.exp(1j*2*np.pi/N*nk)@X /N\n",
    "y"
   ]
  },
  {
   "cell_type": "code",
   "execution_count": 9,
   "id": "8d34db26-a50d-472c-91b0-d245290785c6",
   "metadata": {},
   "outputs": [
    {
     "name": "stdout",
     "output_type": "stream",
     "text": [
      "[4.+0.j 0.+0.j 0.+0.j 0.+0.j]\n",
      "[1.+0.j 0.+0.j 0.+0.j 0.+0.j]\n"
     ]
    }
   ],
   "source": [
    "#5 Write a function called myDft(), it can compute the DFT of any signal x[n] or the IDFT of any spectrum X[k]\n",
    "def myDft(x, inverse = False):\n",
    "    if inverse: \n",
    "        X = fft.fft(x,norm = \"forward\")\n",
    "    else:\n",
    "        X = fft.fft(x)\n",
    "    return X\n",
    "\n",
    "print(myDft(x,False))\n",
    "print(myDft(x,True))"
   ]
  },
  {
   "cell_type": "code",
   "execution_count": 10,
   "id": "cce5f055-f5c0-4708-a1a4-3a3ef0705696",
   "metadata": {},
   "outputs": [
    {
     "data": {
      "image/png": "[encoded data removed]",
      "text/plain": [
       "<Figure size 432x288 with 1 Axes>"
      ]
     },
     "metadata": {
      "needs_background": "light"
     },
     "output_type": "display_data"
    }
   ],
   "source": [
    "#6 If x is a Cosine signal with frequency = 100 Hz, generate a discrete signal with sampling frequency, Fs = 1000 samples/sec, for 10 sec. \n",
    "# compute the spectrum X[k] of the the signal x[n] and plot X[k], what does it look like?\n",
    "x = CosSignal(freq=100)\n",
    "x_wave = x.make_wave(duration=10, start=0, framerate=1000)\n",
    "\n",
    "x_spectrum = x_wave.make_spectrum()\n",
    "x_spectrum.plot()\n",
    "decorate(xlabel='Frequency (Hz)')"
   ]
  },
  {
   "cell_type": "code",
   "execution_count": 11,
   "id": "ff2879d1-1b6f-4de8-b3b1-fb864f0fc9ff",
   "metadata": {},
   "outputs": [],
   "source": [
    "#7 What is convolution of 2 signal x[n] and y[n], please write down their mathematical definition"
   ]
  },
  {
   "cell_type": "code",
   "execution_count": 12,
   "id": "5be6b2d6-beec-43b5-b419-c63f59d0c14a",
   "metadata": {},
   "outputs": [
    {
     "data": {
      "text/plain": [
       "array([ 1,  3,  6, 10, 14, 12,  9,  5,  0,  0,  0,  0,  0,  0,  0])"
      ]
     },
     "execution_count": 12,
     "metadata": {},
     "output_type": "execute_result"
    }
   ],
   "source": [
    "#8 If x= [1,1,1,1], y=[1,2,3,4,5], what is their convolution z = x*y?\n",
    "x = np.array([1,1,1,1,0,0,0,0])\n",
    "y = np.array([1,2,3,4,5,0,0,0])\n",
    "np.convolve(x,y)"
   ]
  },
  {
   "cell_type": "code",
   "execution_count": 13,
   "id": "708c1cd4-d0aa-4291-840b-4f9ba00a6f81",
   "metadata": {},
   "outputs": [
    {
     "data": {
      "text/plain": [
       "array([ 1.,  3.,  6., 10., 14., 12.,  9.,  5.])"
      ]
     },
     "execution_count": 13,
     "metadata": {},
     "output_type": "execute_result"
    }
   ],
   "source": [
    "#9 Write a function called myConvlution(), which can compute the convolution of two signal.\n",
    "def myConvolution(x,y):\n",
    "    z = np.zeros(np.size(x))\n",
    "    for i in range(np.size(x)):\n",
    "        for j in range(np.size(x)):\n",
    "            z[i] = z[i] + (x[j]*y[i-j])\n",
    "    return z\n",
    "myConvolution(x,y)"
   ]
  },
  {
   "cell_type": "code",
   "execution_count": 14,
   "id": "201ec548-e8bb-4da8-8269-6c31025578ac",
   "metadata": {},
   "outputs": [],
   "source": [
    "#10 What is the convolution theorem?\n",
    "# The Fourier transform of a convolution of two functions(or signals) is the pointwise product of their Fourier transforms\n",
    "# DFT(f ∗ g) = DFT(f) · DFT(g) where f is a wave array and g is a window.\n",
    "# if we convolve f and g, and then compute the DFT, we get the same answer as computing the DFT of f and g, and then multiplying the results element-wise."
   ]
  },
  {
   "cell_type": "code",
   "execution_count": 15,
   "id": "098d6383-ff60-4519-b67f-aabbb3153def",
   "metadata": {},
   "outputs": [
    {
     "name": "stdout",
     "output_type": "stream",
     "text": [
      "[ 60.   +0.j    -22.899+5.828j   0.   +0.j     -3.101-0.172j\n",
      "   0.   +0.j     -3.101+0.172j   0.   +0.j    -22.899-5.828j]\n",
      "[ 60.   +0.j    -22.899+5.828j   0.   +0.j     -3.101-0.172j\n",
      "   0.   +0.j     -3.101+0.172j   0.   +0.j    -22.899-5.828j]\n"
     ]
    }
   ],
   "source": [
    "#11 Verify the convolution theorem by using myDft() and myConvolution()\n",
    "x = np.array([1,1,1,1,0,0,0,0])\n",
    "y = np.array([1,2,3,4,5,0,0,0])\n",
    "xy_cond = myDft(myConvolution(x,y))\n",
    "print(xy_cond)\n",
    "print(myDft(x)*myDft(y))"
   ]
  }
 ],
 "metadata": {
  "kernelspec": {
   "display_name": "Python 3 (ipykernel)",
   "language": "python",
   "name": "python3"
  },
  "language_info": {
   "codemirror_mode": {
    "name": "ipython",
    "version": 3
   },
   "file_extension": ".py",
   "mimetype": "text/x-python",
   "name": "python",
   "nbconvert_exporter": "python",
   "pygments_lexer": "ipython3",
   "version": "3.9.12"
  }
 },
 "nbformat": 4,
 "nbformat_minor": 5
}
