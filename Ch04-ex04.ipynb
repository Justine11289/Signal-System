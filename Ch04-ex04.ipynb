{
 "cells": [
  {
   "cell_type": "code",
   "execution_count": 1,
   "id": "9dd116c6",
   "metadata": {},
   "outputs": [],
   "source": [
    "import os\n",
    "\n",
    "if not os.path.exists('thinkdsp.py'):\n",
    "    !wget https://github.com/AllenDowney/ThinkDSP/raw/master/code/thinkdsp.py"
   ]
  },
  {
   "cell_type": "code",
   "execution_count": 2,
   "id": "943445a0",
   "metadata": {},
   "outputs": [],
   "source": [
    "import numpy as np\n",
    "import matplotlib.pyplot as plt\n",
    "\n",
    "from thinkdsp import decorate"
   ]
  },
  {
   "cell_type": "code",
   "execution_count": 3,
   "id": "89ef047c",
   "metadata": {},
   "outputs": [
    {
     "data": {
      "text/plain": [
       "array([[0.55658335, 0.93351177, 0.603568  , 0.0057663 , 0.48707665],\n",
       "       [0.99000798,        nan,        nan,        nan,        nan],\n",
       "       [0.48052789,        nan,        nan,        nan,        nan],\n",
       "       [0.45394428,        nan,        nan,        nan,        nan],\n",
       "       [0.01257197,        nan,        nan,        nan,        nan],\n",
       "       [0.83901992,        nan,        nan,        nan,        nan]])"
      ]
     },
     "execution_count": 3,
     "metadata": {},
     "output_type": "execute_result"
    }
   ],
   "source": [
    "nrows = 100\n",
    "ncols = 5\n",
    "\n",
    "array = np.empty((nrows, ncols))\n",
    "array.fill(np.nan)\n",
    "array[0, :] = np.random.random(ncols)\n",
    "array[:, 0] = np.random.random(nrows)\n",
    "array[0:6]"
   ]
  },
  {
   "cell_type": "code",
   "execution_count": 4,
   "id": "08afe7ea",
   "metadata": {},
   "outputs": [
    {
     "data": {
      "text/plain": [
       "array([2, 1, 3, 3, 1, 1, 1, 1, 1, 1, 1, 0, 1, 1, 1, 3, 1, 2, 1, 2, 2, 2,\n",
       "       2, 1, 2, 2, 1, 3, 3, 1, 1, 3, 2, 2, 0, 1, 2, 1, 2, 1, 1, 4, 2, 2,\n",
       "       1, 0, 1, 2, 2, 3, 2, 3, 4, 2, 1, 0, 4, 1, 3, 1, 3, 2, 1, 2, 0, 1,\n",
       "       0, 1, 0, 2, 3, 1, 1, 1, 2, 1, 3, 1, 3, 2, 1, 1, 1, 1, 1, 1, 1, 2,\n",
       "       2, 1, 1, 1, 4, 3, 2, 0, 1, 0, 1, 1])"
      ]
     },
     "execution_count": 4,
     "metadata": {},
     "output_type": "execute_result"
    }
   ],
   "source": [
    "p = 0.5\n",
    "n = nrows\n",
    "cols = np.random.geometric(p, n)\n",
    "cols[cols >= ncols] = 0\n",
    "cols"
   ]
  },
  {
   "cell_type": "code",
   "execution_count": 5,
   "id": "398a3b28",
   "metadata": {},
   "outputs": [
    {
     "data": {
      "text/plain": [
       "array([21, 72, 29,  1, 42, 31,  9, 80, 62, 53, 67, 14, 20, 36, 33, 65, 56,\n",
       "       78, 39, 39, 16, 20,  1, 82, 96, 25, 15, 97, 26, 13,  8, 64, 11,  7,\n",
       "        8, 38, 98, 76,  2, 21, 54,  8, 85, 23, 70, 81, 69, 32, 92,  5, 41,\n",
       "       94, 89, 24, 42, 51, 61, 42, 98, 96, 61, 35, 73, 20, 77, 42, 27, 95,\n",
       "       83, 91, 22, 70, 63, 60, 27,  8, 75, 29, 57, 90, 78, 73, 80, 47, 70,\n",
       "       92, 87, 55, 29, 23, 53, 21, 15, 80, 39,  6, 32, 62, 24, 78])"
      ]
     },
     "execution_count": 5,
     "metadata": {},
     "output_type": "execute_result"
    }
   ],
   "source": [
    "rows = np.random.randint(nrows, size=n)\n",
    "rows"
   ]
  },
  {
   "cell_type": "code",
   "execution_count": 6,
   "id": "50d9fc14",
   "metadata": {},
   "outputs": [
    {
     "data": {
      "text/plain": [
       "array([[0.55658335, 0.93351177, 0.603568  , 0.0057663 , 0.48707665],\n",
       "       [0.99000798,        nan, 0.86673135, 0.0229488 ,        nan],\n",
       "       [0.48052789,        nan, 0.21236028,        nan,        nan],\n",
       "       [0.45394428,        nan,        nan,        nan,        nan],\n",
       "       [0.01257197,        nan,        nan,        nan,        nan],\n",
       "       [0.83901992,        nan,        nan, 0.7168289 ,        nan]])"
      ]
     },
     "execution_count": 6,
     "metadata": {},
     "output_type": "execute_result"
    }
   ],
   "source": [
    "array[rows, cols] = np.random.random(n)\n",
    "array[0:6]"
   ]
  },
  {
   "cell_type": "code",
   "execution_count": 7,
   "id": "f4dcb88a",
   "metadata": {},
   "outputs": [
    {
     "data": {
      "text/html": [
       "<div>\n",
       "<style scoped>\n",
       "    .dataframe tbody tr th:only-of-type {\n",
       "        vertical-align: middle;\n",
       "    }\n",
       "\n",
       "    .dataframe tbody tr th {\n",
       "        vertical-align: top;\n",
       "    }\n",
       "\n",
       "    .dataframe thead th {\n",
       "        text-align: right;\n",
       "    }\n",
       "</style>\n",
       "<table border=\"1\" class=\"dataframe\">\n",
       "  <thead>\n",
       "    <tr style=\"text-align: right;\">\n",
       "      <th></th>\n",
       "      <th>0</th>\n",
       "      <th>1</th>\n",
       "      <th>2</th>\n",
       "      <th>3</th>\n",
       "      <th>4</th>\n",
       "    </tr>\n",
       "  </thead>\n",
       "  <tbody>\n",
       "    <tr>\n",
       "      <th>0</th>\n",
       "      <td>0.556583</td>\n",
       "      <td>0.933512</td>\n",
       "      <td>0.603568</td>\n",
       "      <td>0.005766</td>\n",
       "      <td>0.487077</td>\n",
       "    </tr>\n",
       "    <tr>\n",
       "      <th>1</th>\n",
       "      <td>0.990008</td>\n",
       "      <td>NaN</td>\n",
       "      <td>0.866731</td>\n",
       "      <td>0.022949</td>\n",
       "      <td>NaN</td>\n",
       "    </tr>\n",
       "    <tr>\n",
       "      <th>2</th>\n",
       "      <td>0.480528</td>\n",
       "      <td>NaN</td>\n",
       "      <td>0.212360</td>\n",
       "      <td>NaN</td>\n",
       "      <td>NaN</td>\n",
       "    </tr>\n",
       "    <tr>\n",
       "      <th>3</th>\n",
       "      <td>0.453944</td>\n",
       "      <td>NaN</td>\n",
       "      <td>NaN</td>\n",
       "      <td>NaN</td>\n",
       "      <td>NaN</td>\n",
       "    </tr>\n",
       "    <tr>\n",
       "      <th>4</th>\n",
       "      <td>0.012572</td>\n",
       "      <td>NaN</td>\n",
       "      <td>NaN</td>\n",
       "      <td>NaN</td>\n",
       "      <td>NaN</td>\n",
       "    </tr>\n",
       "  </tbody>\n",
       "</table>\n",
       "</div>"
      ],
      "text/plain": [
       "          0         1         2         3         4\n",
       "0  0.556583  0.933512  0.603568  0.005766  0.487077\n",
       "1  0.990008       NaN  0.866731  0.022949       NaN\n",
       "2  0.480528       NaN  0.212360       NaN       NaN\n",
       "3  0.453944       NaN       NaN       NaN       NaN\n",
       "4  0.012572       NaN       NaN       NaN       NaN"
      ]
     },
     "execution_count": 7,
     "metadata": {},
     "output_type": "execute_result"
    }
   ],
   "source": [
    "import pandas as pd\n",
    "df = pd.DataFrame(array)\n",
    "df.head()"
   ]
  },
  {
   "cell_type": "code",
   "execution_count": 8,
   "id": "47717dec",
   "metadata": {},
   "outputs": [
    {
     "data": {
      "text/html": [
       "<div>\n",
       "<style scoped>\n",
       "    .dataframe tbody tr th:only-of-type {\n",
       "        vertical-align: middle;\n",
       "    }\n",
       "\n",
       "    .dataframe tbody tr th {\n",
       "        vertical-align: top;\n",
       "    }\n",
       "\n",
       "    .dataframe thead th {\n",
       "        text-align: right;\n",
       "    }\n",
       "</style>\n",
       "<table border=\"1\" class=\"dataframe\">\n",
       "  <thead>\n",
       "    <tr style=\"text-align: right;\">\n",
       "      <th></th>\n",
       "      <th>0</th>\n",
       "      <th>1</th>\n",
       "      <th>2</th>\n",
       "      <th>3</th>\n",
       "      <th>4</th>\n",
       "    </tr>\n",
       "  </thead>\n",
       "  <tbody>\n",
       "    <tr>\n",
       "      <th>0</th>\n",
       "      <td>0.556583</td>\n",
       "      <td>0.933512</td>\n",
       "      <td>0.603568</td>\n",
       "      <td>0.005766</td>\n",
       "      <td>0.487077</td>\n",
       "    </tr>\n",
       "    <tr>\n",
       "      <th>1</th>\n",
       "      <td>0.990008</td>\n",
       "      <td>0.933512</td>\n",
       "      <td>0.866731</td>\n",
       "      <td>0.022949</td>\n",
       "      <td>0.487077</td>\n",
       "    </tr>\n",
       "    <tr>\n",
       "      <th>2</th>\n",
       "      <td>0.480528</td>\n",
       "      <td>0.933512</td>\n",
       "      <td>0.212360</td>\n",
       "      <td>0.022949</td>\n",
       "      <td>0.487077</td>\n",
       "    </tr>\n",
       "    <tr>\n",
       "      <th>3</th>\n",
       "      <td>0.453944</td>\n",
       "      <td>0.933512</td>\n",
       "      <td>0.212360</td>\n",
       "      <td>0.022949</td>\n",
       "      <td>0.487077</td>\n",
       "    </tr>\n",
       "    <tr>\n",
       "      <th>4</th>\n",
       "      <td>0.012572</td>\n",
       "      <td>0.933512</td>\n",
       "      <td>0.212360</td>\n",
       "      <td>0.022949</td>\n",
       "      <td>0.487077</td>\n",
       "    </tr>\n",
       "  </tbody>\n",
       "</table>\n",
       "</div>"
      ],
      "text/plain": [
       "          0         1         2         3         4\n",
       "0  0.556583  0.933512  0.603568  0.005766  0.487077\n",
       "1  0.990008  0.933512  0.866731  0.022949  0.487077\n",
       "2  0.480528  0.933512  0.212360  0.022949  0.487077\n",
       "3  0.453944  0.933512  0.212360  0.022949  0.487077\n",
       "4  0.012572  0.933512  0.212360  0.022949  0.487077"
      ]
     },
     "execution_count": 8,
     "metadata": {},
     "output_type": "execute_result"
    }
   ],
   "source": [
    "filled = df.fillna(method='ffill', axis=0)\n",
    "filled.head()"
   ]
  },
  {
   "cell_type": "code",
   "execution_count": 9,
   "id": "a8a8ab7b",
   "metadata": {},
   "outputs": [
    {
     "data": {
      "text/plain": [
       "0    2.586506\n",
       "1    3.300277\n",
       "2    2.136425\n",
       "3    2.109842\n",
       "4    1.668469\n",
       "dtype: float64"
      ]
     },
     "execution_count": 9,
     "metadata": {},
     "output_type": "execute_result"
    }
   ],
   "source": [
    "total = filled.sum(axis=1)\n",
    "total.head()"
   ]
  },
  {
   "cell_type": "code",
   "execution_count": 10,
   "id": "e6307200",
   "metadata": {},
   "outputs": [
    {
     "data": {
      "image/png": "[encoded data removed]",
      "text/plain": [
       "<Figure size 432x288 with 1 Axes>"
      ]
     },
     "metadata": {
      "needs_background": "light"
     },
     "output_type": "display_data"
    }
   ],
   "source": [
    "from thinkdsp import Wave\n",
    "\n",
    "wave = Wave(total.values)\n",
    "wave.plot()"
   ]
  },
  {
   "cell_type": "code",
   "execution_count": 11,
   "id": "c92a918a",
   "metadata": {},
   "outputs": [],
   "source": [
    "def voss(nrows, ncols=16):\n",
    "    \"\"\"Generates pink noise using the Voss-McCartney algorithm.\n",
    "    \n",
    "    nrows: number of values to generate\n",
    "    rcols: number of random sources to add\n",
    "    \n",
    "    returns: NumPy array\n",
    "    \"\"\"\n",
    "    array = np.empty((nrows, ncols))\n",
    "    array.fill(np.nan)\n",
    "    array[0, :] = np.random.random(ncols)\n",
    "    array[:, 0] = np.random.random(nrows)\n",
    "    \n",
    "    # the total number of changes is nrows\n",
    "    n = nrows\n",
    "    cols = np.random.geometric(0.5, n)\n",
    "    cols[cols >= ncols] = 0\n",
    "    rows = np.random.randint(nrows, size=n)\n",
    "    array[rows, cols] = np.random.random(n)\n",
    "\n",
    "    df = pd.DataFrame(array)\n",
    "    df.fillna(method='ffill', axis=0, inplace=True)\n",
    "    total = df.sum(axis=1)\n",
    "\n",
    "    return total.values"
   ]
  },
  {
   "cell_type": "code",
   "execution_count": 12,
   "id": "3af41660",
   "metadata": {},
   "outputs": [
    {
     "data": {
      "text/plain": [
       "array([7.31868346, 7.63226515, 7.27862766, ..., 6.50176404, 7.01310755,\n",
       "       6.49456021])"
      ]
     },
     "execution_count": 12,
     "metadata": {},
     "output_type": "execute_result"
    }
   ],
   "source": [
    "ys = voss(11025)\n",
    "ys"
   ]
  },
  {
   "cell_type": "code",
   "execution_count": 13,
   "id": "6a70c51d",
   "metadata": {},
   "outputs": [],
   "source": [
    "wave = Wave(ys)\n",
    "wave.unbias()\n",
    "wave.normalize()"
   ]
  },
  {
   "cell_type": "code",
   "execution_count": 14,
   "id": "724a0af7",
   "metadata": {},
   "outputs": [
    {
     "data": {
      "image/png": "[encoded data removed]",
      "text/plain": [
       "<Figure size 432x288 with 1 Axes>"
      ]
     },
     "metadata": {
      "needs_background": "light"
     },
     "output_type": "display_data"
    }
   ],
   "source": [
    "wave.plot()"
   ]
  },
  {
   "cell_type": "code",
   "execution_count": 15,
   "id": "c7fb5bf5",
   "metadata": {},
   "outputs": [
    {
     "data": {
      "image/png": "[encoded data removed]",
      "text/plain": [
       "<Figure size 432x288 with 1 Axes>"
      ]
     },
     "metadata": {
      "needs_background": "light"
     },
     "output_type": "display_data"
    }
   ],
   "source": [
    "spectrum = wave.make_spectrum()\n",
    "spectrum.hs[0] = 0\n",
    "spectrum.plot_power()\n",
    "loglog = dict(xscale='log', yscale='log')\n",
    "decorate(xlabel='Frequency (Hz)',ylabel='Power',**loglog)"
   ]
  },
  {
   "cell_type": "code",
   "execution_count": 16,
   "id": "8abb4eb1",
   "metadata": {},
   "outputs": [
    {
     "data": {
      "text/plain": [
       "-0.994970471051145"
      ]
     },
     "execution_count": 16,
     "metadata": {},
     "output_type": "execute_result"
    }
   ],
   "source": [
    "spectrum.estimate_slope().slope"
   ]
  }
 ],
 "metadata": {
  "kernelspec": {
   "display_name": "Python 3 (ipykernel)",
   "language": "python",
   "name": "python3"
  },
  "language_info": {
   "codemirror_mode": {
    "name": "ipython",
    "version": 3
   },
   "file_extension": ".py",
   "mimetype": "text/x-python",
   "name": "python",
   "nbconvert_exporter": "python",
   "pygments_lexer": "ipython3",
   "version": "3.9.7"
  }
 },
 "nbformat": 4,
 "nbformat_minor": 5
}
