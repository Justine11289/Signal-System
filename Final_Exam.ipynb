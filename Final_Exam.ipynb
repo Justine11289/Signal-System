{
 "cells": [
  {
   "cell_type": "code",
   "execution_count": 1,
   "id": "9d575842-d5ad-4f24-9178-ce51e2700513",
   "metadata": {},
   "outputs": [],
   "source": [
    "import os\n",
    "\n",
    "if not os.path.exists('thinkdsp.py'):\n",
    "    !wget https://github.com/AllenDowney/ThinkDSP/raw/master/code/thinkdsp.py"
   ]
  },
  {
   "cell_type": "code",
   "execution_count": 2,
   "id": "472ebbd9-0e5e-42db-aaf4-ef4b558ba153",
   "metadata": {},
   "outputs": [],
   "source": [
    "import matplotlib.pyplot as plt\n",
    "\n",
    "from thinkdsp import CosSignal\n",
    "from thinkdsp import decorate\n",
    "from thinkdsp import Chirp"
   ]
  },
  {
   "cell_type": "code",
   "execution_count": 3,
   "id": "8b748aab-c16c-47d3-a5f8-b035e379f901",
   "metadata": {},
   "outputs": [],
   "source": [
    "import numpy as np\n",
    "π = 3.1415926\n",
    "def myDFT(x):\n",
    "    N = len(x)\n",
    "    n = np.arange(N)\n",
    "    k = np.arange(N)\n",
    "    kn = np.outer(k,n)\n",
    "    M = np.exp(-1j * 2 * π * kn)\n",
    "    X = M.dot(x)\n",
    "    return X"
   ]
  },
  {
   "cell_type": "code",
   "execution_count": 4,
   "id": "216331af-29ec-4e00-8ffe-c8b87e603ed6",
   "metadata": {},
   "outputs": [
    {
     "name": "stdout",
     "output_type": "stream",
     "text": [
      "[4.+0.000e+00j 4.+6.431e-07j 4.+1.286e-06j 4.+1.929e-06j]\n"
     ]
    }
   ],
   "source": [
    "np.set_printoptions(precision=3)\n",
    "x = np.array([1, 1, 1, 1])\n",
    "X = myDFT(x)\n",
    "print(X)"
   ]
  },
  {
   "cell_type": "code",
   "execution_count": 87,
   "id": "93d82b23-332f-4b5c-9426-3ffae779fa40",
   "metadata": {},
   "outputs": [
    {
     "name": "stdout",
     "output_type": "stream",
     "text": [
      "[4.+0.j 0.+0.j 0.+0.j 0.+0.j]\n"
     ]
    }
   ],
   "source": [
    "import numpy.fft as fft\n",
    "X = fft.fft(x)\n",
    "print(X)"
   ]
  },
  {
   "cell_type": "code",
   "execution_count": 19,
   "id": "0d0e8c2e-a293-4e96-a914-dced31f9d061",
   "metadata": {},
   "outputs": [
    {
     "name": "stdout",
     "output_type": "stream",
     "text": [
      "(3.4641016151373996+1.1138429318877143e-06j)\n"
     ]
    }
   ],
   "source": [
    "X1 = myDFT(x)\n",
    "X2 = fft.fft(x)\n",
    "diff = np.subtract(X1,X2)\n",
    "square = np.square(diff)\n",
    "MSE = square.mean()\n",
    "RMSE = np.sqrt(MSE)\n",
    "print(RMSE)"
   ]
  },
  {
   "cell_type": "code",
   "execution_count": 108,
   "id": "fd5020c5-606a-49f6-b18c-f47727191d92",
   "metadata": {},
   "outputs": [],
   "source": [
    "x = [1,2,3,4,5,6,7,8]\n",
    "y = [1,1,1,1]"
   ]
  },
  {
   "cell_type": "code",
   "execution_count": 132,
   "id": "7c172a7a-fc4d-4734-93d4-20a57bfb4d24",
   "metadata": {},
   "outputs": [
    {
     "data": {
      "text/plain": [
       "array([8, 7, 6, 5, 0, 0, 0, 0, 0, 0, 0])"
      ]
     },
     "execution_count": 132,
     "metadata": {},
     "output_type": "execute_result"
    }
   ],
   "source": [
    "def myCONV(x,y):\n",
    "    y = np.append(y,[0]*(len(x)-1)) # zero padding\n",
    "    m = np.arange(len(y))\n",
    "    zL = []\n",
    "    for n in range(len(y)):\n",
    "        z = x[len(x)-1-n] * y[n] \n",
    "        zL +=[z]\n",
    "    zL = np.array(zL)\n",
    "    return zL\n",
    "myCONV(x,y)"
   ]
  },
  {
   "cell_type": "code",
   "execution_count": 101,
   "id": "19c56dd7-22d4-4eeb-ae79-67d795e2a472",
   "metadata": {},
   "outputs": [
    {
     "data": {
      "text/plain": [
       "array([ 1,  3,  6, 10, 14, 18, 22, 26, 21, 15,  8,  0,  0,  0,  0,  0,  0,\n",
       "        0,  0,  0,  0,  0])"
      ]
     },
     "execution_count": 101,
     "metadata": {},
     "output_type": "execute_result"
    }
   ],
   "source": [
    "def myCONV2(x,y):\n",
    "    x = np.array(x)\n",
    "    y = np.append(y,[0]*(len(x)-1)) # zero padding\n",
    "    m = np.array(len(x)).reshape(1,-1) #row vector\n",
    "    n = np.array(len(y)).reshape(-1,1) #column vector\n",
    "    z = np.convolve(x,y)\n",
    "    return z\n",
    "myCONV2(x,y)"
   ]
  },
  {
   "cell_type": "code",
   "execution_count": 100,
   "id": "0a63a03c-d778-4b29-8685-b3a053a001ba",
   "metadata": {},
   "outputs": [
    {
     "name": "stdout",
     "output_type": "stream",
     "text": [
      "[ 1  3  6 10 14 18 22 26 21 15  8  0  0  0  0]\n"
     ]
    }
   ],
   "source": [
    "z = np.convolve(x,y)\n",
    "print(z)"
   ]
  },
  {
   "cell_type": "code",
   "execution_count": 88,
   "id": "619c211b-de76-4bed-bc07-0c0ba6082031",
   "metadata": {},
   "outputs": [
    {
     "name": "stdout",
     "output_type": "stream",
     "text": [
      "[ 4.e+00+0.e+00j -5.e-08-5.e-08j  8.e-15-1.e-07j  2.e-07-2.e-07j]\n"
     ]
    }
   ],
   "source": [
    "import numpy as np\n",
    "π = 3.1415926\n",
    "np.set_printoptions(0)\n",
    "x = np.array([1,1,1,1])\n",
    "def myDFT(x):\n",
    "    N = len(x)\n",
    "    n = np.arange(N)\n",
    "    k = np.arange(N)\n",
    "    kn = np.outer(k,n)\n",
    "    M = np.exp(-1j * 2 * π * kn/N)\n",
    "    X = M.dot(x)\n",
    "    return X\n",
    "X = myDFT(x)\n",
    "print(X)"
   ]
  },
  {
   "cell_type": "code",
   "execution_count": 90,
   "id": "35e1b755-1a8e-4b95-9b9a-b48bc28b950f",
   "metadata": {},
   "outputs": [
    {
     "name": "stdout",
     "output_type": "stream",
     "text": [
      "8\n",
      "4\n",
      "11\n"
     ]
    }
   ],
   "source": [
    "x = [1,2,3,4,5,6,7,8]\n",
    "y = [1,1,1,1]\n",
    "z = np.convolve(x,y)\n",
    "print(len(x))\n",
    "print(len(y))\n",
    "print(len(z))"
   ]
  },
  {
   "cell_type": "code",
   "execution_count": null,
   "id": "a9cb172c-5d70-4b07-9bb9-b30cb0a90145",
   "metadata": {},
   "outputs": [],
   "source": []
  }
 ],
 "metadata": {
  "kernelspec": {
   "display_name": "Python 3 (ipykernel)",
   "language": "python",
   "name": "python3"
  },
  "language_info": {
   "codemirror_mode": {
    "name": "ipython",
    "version": 3
   },
   "file_extension": ".py",
   "mimetype": "text/x-python",
   "name": "python",
   "nbconvert_exporter": "python",
   "pygments_lexer": "ipython3",
   "version": "3.9.12"
  }
 },
 "nbformat": 4,
 "nbformat_minor": 5
}
